{
 "cells": [
  {
   "cell_type": "markdown",
   "metadata": {},
   "source": [
    "## 准备数据"
   ]
  },
  {
   "cell_type": "code",
   "execution_count": 46,
   "metadata": {},
   "outputs": [],
   "source": [
    "import os\n",
    "import numpy as np\n",
    "import tensorflow as tf\n",
    "from tensorflow import keras\n",
    "from tensorflow.keras import layers, optimizers, datasets\n",
    "\n",
    "os.environ['TF_CPP_MIN_LOG_LEVEL'] = '2'  # or any {'0', '1', '2'}\n",
    "\n",
    "def mnist_dataset():\n",
    "    (x, y), (x_test, y_test) = datasets.mnist.load_data()\n",
    "    #normalize\n",
    "    x = x/255.0\n",
    "    x_test = x_test/255.0\n",
    "    \n",
    "    return (x, y), (x_test, y_test)"
   ]
  },
  {
   "cell_type": "code",
   "execution_count": 47,
   "metadata": {},
   "outputs": [
    {
     "name": "stdout",
     "output_type": "stream",
     "text": [
      "[(1, 'a'), (2, 'b'), (3, 'c'), (4, 'd')]\n"
     ]
    }
   ],
   "source": [
    "print(list(zip([1, 2, 3, 4], ['a', 'b', 'c', 'd'])))"
   ]
  },
  {
   "cell_type": "markdown",
   "metadata": {},
   "source": [
    "## 建立模型"
   ]
  },
  {
   "cell_type": "code",
   "execution_count": 48,
   "metadata": {},
   "outputs": [],
   "source": [
    "class myModel:\n",
    "    def __init__(self):\n",
    "        ####################\n",
    "        '''声明模型对应的参数'''\n",
    "        ####################\n",
    "        # 第一层784-->128\n",
    "        # 第二层128-->10\n",
    "        self.W1 = tf.Variable(shape=[28*28,128],dtype=tf.float32,\n",
    "                              initial_value = tf.random.uniform(shape=[28*28,128],minval=-0.1,maxval=0.1))\n",
    "        self.b1 = tf.Variable(shape=[128],dtype=tf.float32,\n",
    "                              initial_value = tf.random.uniform(shape=[128],minval=-0.1,maxval=0.1))\n",
    "        self.W2 = tf.Variable(shape=[128,10],dtype=tf.float32,\n",
    "                              initial_value = tf.random.uniform(shape=[128,10],minval=-0.1,maxval=0.1))\n",
    "        self.b2 = tf.Variable(shape=[10],dtype=tf.float32,\n",
    "                              initial_value = tf.random.uniform(shape=[10],minval=-0.1,maxval=0.1))\n",
    "        self.trainable_vars = [self.W1, self.W2, self.b1, self.b2]\n",
    "\n",
    "        \n",
    "        \n",
    "    def __call__(self, x):\n",
    "        ####################\n",
    "        '''实现模型函数体，返回未归一化的logits'''\n",
    "        ####################\n",
    "        x_reshape = tf.reshape(x,shape=[-1,28*28])\n",
    "        h = tf.matmul(x_reshape,self.W1)+self.b1\n",
    "        h = tf.tanh(h)\n",
    "        logits = tf.matmul(h,self.W2)+self.b2\n",
    "        \n",
    "        return logits\n",
    "        \n",
    "model = myModel()\n",
    "\n",
    "optimizer = optimizers.Adam()"
   ]
  },
  {
   "cell_type": "markdown",
   "metadata": {},
   "source": [
    "## 计算 loss"
   ]
  },
  {
   "cell_type": "code",
   "execution_count": 49,
   "metadata": {},
   "outputs": [],
   "source": [
    "@tf.function\n",
    "def compute_loss(logits, labels):\n",
    "    return tf.reduce_mean(\n",
    "        tf.nn.sparse_softmax_cross_entropy_with_logits(\n",
    "            logits=logits, labels=labels))\n",
    "\n",
    "@tf.function\n",
    "def compute_accuracy(logits, labels):\n",
    "    predictions = tf.argmax(logits, axis=1)\n",
    "    return tf.reduce_mean(tf.cast(tf.equal(predictions, labels), tf.float32))\n",
    "\n",
    "@tf.function\n",
    "def train_one_step(model, optimizer, x, y):\n",
    "    with tf.GradientTape() as tape:\n",
    "        logits = model(x)\n",
    "        loss = compute_loss(logits, y)\n",
    "\n",
    "    # compute gradient\n",
    "    trainable_vars = [model.W1, model.W2, model.b1, model.b2]\n",
    "    grads = tape.gradient(loss, trainable_vars)\n",
    "    for g, v in zip(grads, trainable_vars):\n",
    "        v.assign_sub(1*g)  # lr 从0.01改成1\n",
    "\n",
    "    accuracy = compute_accuracy(logits, y)\n",
    "\n",
    "    # loss and accuracy is scalar tensor\n",
    "    return loss, accuracy\n",
    "\n",
    "@tf.function\n",
    "def test(model, x, y):\n",
    "    logits = model(x)\n",
    "    loss = compute_loss(logits, y)\n",
    "    accuracy = compute_accuracy(logits, y)\n",
    "    return loss, accuracy"
   ]
  },
  {
   "cell_type": "markdown",
   "metadata": {},
   "source": [
    "## 实际训练"
   ]
  },
  {
   "cell_type": "code",
   "execution_count": 50,
   "metadata": {},
   "outputs": [
    {
     "name": "stdout",
     "output_type": "stream",
     "text": [
      "epoch 0 : loss 2.3580828 ; accuracy 0.121\n",
      "epoch 1 : loss 1.8524984 ; accuracy 0.4644\n",
      "epoch 2 : loss 1.4827251 ; accuracy 0.6199833\n",
      "epoch 3 : loss 1.2307662 ; accuracy 0.69091666\n",
      "epoch 4 : loss 1.0721161 ; accuracy 0.73145\n",
      "epoch 5 : loss 0.97039557 ; accuracy 0.71195\n",
      "epoch 6 : loss 0.9200746 ; accuracy 0.7342833\n",
      "epoch 7 : loss 0.8224307 ; accuracy 0.73765\n",
      "epoch 8 : loss 0.80096644 ; accuracy 0.76585\n",
      "epoch 9 : loss 0.77099955 ; accuracy 0.7402833\n",
      "epoch 10 : loss 0.7128405 ; accuracy 0.78861666\n",
      "epoch 11 : loss 0.74975 ; accuracy 0.7345833\n",
      "epoch 12 : loss 0.8069993 ; accuracy 0.7237667\n",
      "epoch 13 : loss 0.86843336 ; accuracy 0.69846666\n",
      "epoch 14 : loss 0.7306111 ; accuracy 0.7489333\n",
      "epoch 15 : loss 0.609281 ; accuracy 0.79503334\n",
      "epoch 16 : loss 0.5821746 ; accuracy 0.80698335\n",
      "epoch 17 : loss 0.52422726 ; accuracy 0.8386\n",
      "epoch 18 : loss 0.51419145 ; accuracy 0.8462667\n",
      "epoch 19 : loss 0.4938594 ; accuracy 0.85305\n",
      "epoch 20 : loss 0.4722739 ; accuracy 0.86468333\n",
      "epoch 21 : loss 0.47161028 ; accuracy 0.86183333\n",
      "epoch 22 : loss 0.4690899 ; accuracy 0.8577\n",
      "epoch 23 : loss 0.5044454 ; accuracy 0.8390333\n",
      "epoch 24 : loss 0.5463983 ; accuracy 0.81125\n",
      "epoch 25 : loss 0.58172303 ; accuracy 0.79085\n",
      "epoch 26 : loss 0.49421856 ; accuracy 0.83561665\n",
      "epoch 27 : loss 0.43671346 ; accuracy 0.8703667\n",
      "epoch 28 : loss 0.40953085 ; accuracy 0.87801665\n",
      "epoch 29 : loss 0.39960438 ; accuracy 0.88905\n",
      "epoch 30 : loss 0.3975886 ; accuracy 0.882\n",
      "epoch 31 : loss 0.39680716 ; accuracy 0.88956666\n",
      "epoch 32 : loss 0.40247038 ; accuracy 0.87888336\n",
      "epoch 33 : loss 0.40583995 ; accuracy 0.8844\n",
      "epoch 34 : loss 0.4197847 ; accuracy 0.87018335\n",
      "epoch 35 : loss 0.42162806 ; accuracy 0.87773335\n",
      "epoch 36 : loss 0.43648985 ; accuracy 0.86251664\n",
      "epoch 37 : loss 0.42273164 ; accuracy 0.8765\n",
      "epoch 38 : loss 0.4201579 ; accuracy 0.86843336\n",
      "epoch 39 : loss 0.39563727 ; accuracy 0.88551664\n",
      "epoch 40 : loss 0.38218543 ; accuracy 0.8840333\n",
      "epoch 41 : loss 0.36649525 ; accuracy 0.8958833\n",
      "epoch 42 : loss 0.35734874 ; accuracy 0.8941333\n",
      "epoch 43 : loss 0.35002714 ; accuracy 0.9008167\n",
      "epoch 44 : loss 0.34515303 ; accuracy 0.8997\n",
      "epoch 45 : loss 0.34123385 ; accuracy 0.9031\n",
      "epoch 46 : loss 0.33815464 ; accuracy 0.90251666\n",
      "epoch 47 : loss 0.3354573 ; accuracy 0.90445\n",
      "epoch 48 : loss 0.33308357 ; accuracy 0.90438336\n",
      "epoch 49 : loss 0.3308801 ; accuracy 0.9057\n",
      "test loss 0.31585813 ; accuracy 0.9117\n"
     ]
    }
   ],
   "source": [
    "train_data, test_data = mnist_dataset()\n",
    "for epoch in range(50):\n",
    "    loss, accuracy = train_one_step(model, optimizer, \n",
    "                                    tf.constant(train_data[0], dtype=tf.float32), \n",
    "                                    tf.constant(train_data[1], dtype=tf.int64))\n",
    "    print('epoch', epoch, ': loss', loss.numpy(), '; accuracy', accuracy.numpy())\n",
    "loss, accuracy = test(model, \n",
    "                      tf.constant(test_data[0], dtype=tf.float32), \n",
    "                      tf.constant(test_data[1], dtype=tf.int64))\n",
    "\n",
    "print('test loss', loss.numpy(), '; accuracy', accuracy.numpy())"
   ]
  }
 ],
 "metadata": {
  "kernelspec": {
   "display_name": "Python 3",
   "language": "python",
   "name": "python3"
  },
  "language_info": {
   "codemirror_mode": {
    "name": "ipython",
    "version": 3
   },
   "file_extension": ".py",
   "mimetype": "text/x-python",
   "name": "python",
   "nbconvert_exporter": "python",
   "pygments_lexer": "ipython3",
   "version": "3.10.5"
  }
 },
 "nbformat": 4,
 "nbformat_minor": 2
}
